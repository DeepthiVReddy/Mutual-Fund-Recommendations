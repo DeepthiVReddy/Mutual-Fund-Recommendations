{
  "nbformat": 4,
  "nbformat_minor": 0,
  "metadata": {
    "colab": {
      "provenance": [],
      "authorship_tag": "ABX9TyP1UxOg22dcmjvmTRNkXcnS",
      "include_colab_link": true
    },
    "kernelspec": {
      "name": "python3",
      "display_name": "Python 3"
    },
    "language_info": {
      "name": "python"
    }
  },
  "cells": [
    {
      "cell_type": "markdown",
      "metadata": {
        "id": "view-in-github",
        "colab_type": "text"
      },
      "source": [
        "<a href=\"https://colab.research.google.com/github/DeepthiVReddy/Mutual-Fund-Recommendations/blob/main/Retention_Modeling_%26_CLV_Based_Revenue_Optimization_for_Insurance_Renewals.ipynb\" target=\"_parent\"><img src=\"https://colab.research.google.com/assets/colab-badge.svg\" alt=\"Open In Colab\"/></a>"
      ]
    },
    {
      "cell_type": "code",
      "source": [
        "# Import necessary libraries\n",
        "import pandas as pd\n",
        "import statsmodels.formula.api as smf\n",
        "\n",
        "# Load the dataset\n",
        "data = pd.read_csv(\"InsuranceRenewal.csv\")\n",
        "\n",
        "# Fit a logistic regression model\n",
        "formula = \"\"\"\n",
        "Response ~ C(State) + C(Coverage) + C(Location_Code) + Monthly_Premium_Auto +\n",
        "           Months_Since_Last_Claim + Months_Since_Policy_Inception +\n",
        "           Number_of_Open_Complaints + Number_of_Policies + C(Policy) +\n",
        "           C(Sales_Channel) + Total_Claim_Amount + C(Vehicle_Class) +\n",
        "           C(Vehicle_Size) + C(Renewal_Offer)\n",
        "\"\"\"\n",
        "\n",
        "# Logistic regression model using statsmodels\n",
        "logistic_model = smf.logit(formula=formula, data=data).fit()\n",
        "\n",
        "# Print the summary of the model\n",
        "print(logistic_model.summary())\n"
      ],
      "metadata": {
        "colab": {
          "base_uri": "https://localhost:8080/"
        },
        "id": "_TgtJS4Zy8RF",
        "outputId": "4763c7ac-f02b-424d-d064-c46dedf2f1dc"
      },
      "execution_count": null,
      "outputs": [
        {
          "output_type": "stream",
          "name": "stdout",
          "text": [
            "Warning: Maximum number of iterations has been exceeded.\n",
            "         Current function value: 0.240018\n",
            "         Iterations: 35\n",
            "                           Logit Regression Results                           \n",
            "==============================================================================\n",
            "Dep. Variable:               Response   No. Observations:                 1000\n",
            "Model:                          Logit   Df Residuals:                      966\n",
            "Method:                           MLE   Df Model:                           33\n",
            "Date:                Sat, 30 Nov 2024   Pseudo R-squ.:                  0.2566\n",
            "Time:                        02:00:02   Log-Likelihood:                -240.02\n",
            "converged:                      False   LL-Null:                       -322.88\n",
            "Covariance Type:            nonrobust   LLR p-value:                 1.322e-19\n",
            "====================================================================================================\n",
            "                                       coef    std err          z      P>|z|      [0.025      0.975]\n",
            "----------------------------------------------------------------------------------------------------\n",
            "Intercept                           -3.8897      1.556     -2.499      0.012      -6.940      -0.840\n",
            "C(State)[T.California]              -0.0537      0.360     -0.149      0.881      -0.760       0.653\n",
            "C(State)[T.Nevada]                  -0.1850      0.507     -0.365      0.715      -1.179       0.809\n",
            "C(State)[T.Oregon]                  -0.2272      0.368     -0.618      0.537      -0.948       0.494\n",
            "C(State)[T.Washington]              -0.0916      0.497     -0.185      0.854      -1.065       0.882\n",
            "C(Coverage)[T.Extended]             -0.0033      0.482     -0.007      0.995      -0.949       0.942\n",
            "C(Coverage)[T.Premium]               0.2394      0.910      0.263      0.793      -1.545       2.024\n",
            "C(Location_Code)[T.Suburban]         3.7197      0.657      5.663      0.000       2.432       5.007\n",
            "C(Location_Code)[T.Urban]            1.0820      0.720      1.503      0.133      -0.329       2.493\n",
            "C(Policy)[T.Corporate L2]            0.3163      0.828      0.382      0.702      -1.307       1.939\n",
            "C(Policy)[T.Corporate L3]            0.2632      0.755      0.348      0.728      -1.217       1.744\n",
            "C(Policy)[T.Personal L1]             0.2132      0.732      0.291      0.771      -1.222       1.648\n",
            "C(Policy)[T.Personal L2]            -0.5729      0.747     -0.767      0.443      -2.038       0.892\n",
            "C(Policy)[T.Personal L3]             0.2494      0.698      0.357      0.721      -1.119       1.617\n",
            "C(Policy)[T.Special L1]              0.7145      1.189      0.601      0.548      -1.616       3.045\n",
            "C(Policy)[T.Special L2]            -31.2053   3.81e+06  -8.18e-06      1.000   -7.47e+06    7.47e+06\n",
            "C(Policy)[T.Special L3]              1.7388      0.973      1.787      0.074      -0.168       3.646\n",
            "C(Sales_Channel)[T.Branch]          -0.5219      0.303     -1.721      0.085      -1.116       0.072\n",
            "C(Sales_Channel)[T.Call Center]     -1.2023      0.429     -2.805      0.005      -2.042      -0.362\n",
            "C(Sales_Channel)[T.Web]              0.6412      0.380      1.688      0.091      -0.103       1.386\n",
            "C(Vehicle_Class)[T.Luxury Car]       2.9288      2.499      1.172      0.241      -1.968       7.826\n",
            "C(Vehicle_Class)[T.Luxury SUV]       3.1170      2.666      1.169      0.242      -2.107       8.341\n",
            "C(Vehicle_Class)[T.SUV]              0.6250      0.851      0.734      0.463      -1.043       2.293\n",
            "C(Vehicle_Class)[T.Sports Car]       0.3773      1.010      0.374      0.709      -1.602       2.356\n",
            "C(Vehicle_Class)[T.Two-Door Car]    -0.3100      0.347     -0.892      0.372      -0.991       0.371\n",
            "C(Vehicle_Size)[T.Medsize]          -0.4925      0.409     -1.205      0.228      -1.293       0.308\n",
            "C(Vehicle_Size)[T.Small]            -1.0712      0.490     -2.185      0.029      -2.032      -0.110\n",
            "C(Renewal_Offer)[T.1]                2.2470      0.345      6.517      0.000       1.571       2.923\n",
            "Monthly_Premium_Auto                 0.0105      0.018      0.569      0.569      -0.026       0.047\n",
            "Months_Since_Last_Claim             -0.0272      0.013     -2.155      0.031      -0.052      -0.002\n",
            "Months_Since_Policy_Inception       -0.0035      0.004     -0.811      0.417      -0.012       0.005\n",
            "Number_of_Open_Complaints           -0.0135      0.136     -0.099      0.921      -0.280       0.253\n",
            "Number_of_Policies                  -0.1168      0.055     -2.132      0.033      -0.224      -0.009\n",
            "Total_Claim_Amount                  -0.0055      0.001     -4.821      0.000      -0.008      -0.003\n",
            "====================================================================================================\n"
          ]
        },
        {
          "output_type": "stream",
          "name": "stderr",
          "text": [
            "/usr/local/lib/python3.10/dist-packages/statsmodels/base/model.py:607: ConvergenceWarning: Maximum Likelihood optimization failed to converge. Check mle_retvals\n",
            "  warnings.warn(\"Maximum Likelihood optimization failed to \"\n"
          ]
        }
      ]
    },
    {
      "cell_type": "markdown",
      "source": [
        "Interpretation of Significant Coefficients\n",
        "Baseline and Focal Groups:\n",
        "\n",
        "For categorical variables, the baseline is the omitted category, and coefficients represent the change in log-odds relative to this baseline.\n",
        "Significant Variables:\n",
        "\n",
        "Suburban Location:\n",
        "Baseline: Rural.\n",
        "Suburban customers are significantly more likely to renew (Coefficient=3.72,P<0.001).\n",
        "Renewal Offer:\n",
        "Baseline: No discount.\n",
        "Offering a 2% discount increases the likelihood of renewal (Coefficient=2.25,P<0.001).\n",
        "Small Vehicle Size:\n",
        "Baseline: Large vehicles.\n",
        "Customers with small vehicles are less likely to renew (Coefficient=−1.07,P=0.029).\n",
        "Months Since Last Claim:\n",
        "Each additional month since the last claim slightly reduces the likelihood of renewal (Coefficient=−0.027,P=0.031).\n",
        "Number of Policies:\n",
        "Customers with more policies are less likely to renew (Coefficient=−0.12,P=0.033).\n",
        "Total Claim Amount:\n",
        "Higher claim amounts decrease the likelihood of renewal (Coefficient=−0.0055,P<0.001).\n",
        "\n",
        "Key Insights:\n",
        "\n",
        "Offering a discount is highly effective in improving renewal rates.\n",
        "Suburban customers are more likely to renew than Rural customers.\n",
        "Customers with small vehicles, higher claim amounts, or more policies are less likely to renew, indicating areas for targeted retention strategies."
      ],
      "metadata": {
        "id": "Xe70DFJf1408"
      }
    },
    {
      "cell_type": "code",
      "source": [
        "# Add predicted probabilities to the dataset\n",
        "data['pred_resp_prob'] = logistic_model.predict(data)\n",
        "\n",
        "# Calculate the mean predicted probability for Renewal_Offer = 0\n",
        "mean_pred_prob_offer_0 = data.loc[data['Renewal_Offer'] == 0, 'pred_resp_prob'].mean()\n",
        "\n",
        "# Calculate the mean predicted probability for Renewal_Offer = 1\n",
        "mean_pred_prob_offer_1 = data.loc[data['Renewal_Offer'] == 1, 'pred_resp_prob'].mean()\n",
        "\n",
        "# Print the results\n",
        "print(\"Mean predicted probability for Renewal_Offer = 0:\", mean_pred_prob_offer_0)\n",
        "print(\"Mean predicted probability for Renewal_Offer = 1:\", mean_pred_prob_offer_1)\n"
      ],
      "metadata": {
        "colab": {
          "base_uri": "https://localhost:8080/"
        },
        "id": "30KOCszoy-x1",
        "outputId": "9d8c8b42-34fc-49bc-adeb-06cc50061e13"
      },
      "execution_count": null,
      "outputs": [
        {
          "output_type": "stream",
          "name": "stdout",
          "text": [
            "Mean predicted probability for Renewal_Offer = 0: 0.025999999999999992\n",
            "Mean predicted probability for Renewal_Offer = 1: 0.17199999999999996\n"
          ]
        }
      ]
    },
    {
      "cell_type": "markdown",
      "source": [
        "Mean Predicted Probabilities:\n",
        "\n",
        "For Renewal_Offer = 0:\n",
        "The mean predicted probability of Response = 1 is 0.026.\n",
        "For Renewal_Offer = 1:\n",
        "The mean predicted probability of Response = 1 is 0.172.\n",
        "Interpretation:\n",
        "\n",
        "Baseline and Focal Group:\n",
        "Baseline Group: Renewal_Offer = 0 (No discount).\n",
        "Focal Group: Renewal_Offer = 1 (2% discount).\n",
        "When no discount is offered (Renewal_Offer = 0), the predicted probability of renewal is very low at 2.6%, indicating minimal likelihood of customer retention under standard conditions.\n",
        "When a 2% discount is provided (Renewal_Offer = 1), the predicted probability of renewal increases significantly to 17.2%.\n",
        "\n",
        "Key Insight:\n",
        "\n",
        "The results highlight that offering a discount has a strong positive effect on renewal probabilities. Customers are 6.6 times more likely to renew with a discount compared to without one.\n",
        "This finding underscores the effectiveness of using targeted discounts to improve customer retention, as demonstrated in class examples.\n"
      ],
      "metadata": {
        "id": "7wy3DQCU2gf4"
      }
    },
    {
      "cell_type": "code",
      "source": [
        "# Import necessary libraries\n",
        "import numpy as np\n",
        "import matplotlib.pyplot as plt\n",
        "\n",
        "# Create 10 deciles in reverse order based on pred_resp_prob\n",
        "data['decile'] = pd.qcut(data['pred_resp_prob'], 10, labels=False, duplicates='drop')\n",
        "data['decile'] = 10 - data['decile']  # Reverse order: 1 to 10 becomes 10 to 1\n",
        "\n",
        "# Group data by decile and calculate mean Response and mean pred_resp_prob\n",
        "decile_data = data.groupby('decile').agg(\n",
        "    actual_mean=('Response', 'mean'),\n",
        "    predicted_mean=('pred_resp_prob', 'mean'),\n",
        "    count=('Response', 'size')\n",
        ").reset_index()\n",
        "\n",
        "# Add cumulative lift column (optional for lift chart visualization)\n",
        "decile_data['cumulative_lift'] = decile_data['actual_mean'] / decile_data['actual_mean'].mean()\n",
        "\n",
        "# Plot the decile lift chart\n",
        "plt.figure(figsize=(10, 6))\n",
        "plt.plot(decile_data['decile'], decile_data['actual_mean'], marker='o', label='Actual Renewal Rate')\n",
        "plt.plot(decile_data['decile'], decile_data['predicted_mean'], marker='o', label='Predicted Renewal Rate')\n",
        "plt.title('Decile Lift Chart')\n",
        "plt.xlabel('Decile (1 = Highest Predicted Probability)')\n",
        "plt.ylabel('Renewal Rate')\n",
        "plt.legend()\n",
        "plt.grid()\n",
        "plt.show()\n"
      ],
      "metadata": {
        "colab": {
          "base_uri": "https://localhost:8080/",
          "height": 564
        },
        "id": "paLWd9z2zFWZ",
        "outputId": "aa5afc2a-99bd-425a-adfb-06134d300951"
      },
      "execution_count": null,
      "outputs": [
        {
          "output_type": "display_data",
          "data": {
            "text/plain": [
              "<Figure size 1000x600 with 1 Axes>"
            ],
            "image/png": "[encoded data removed]"
          },
          "metadata": {}
        }
      ]
    },
    {
      "cell_type": "markdown",
      "source": [
        "Decile Lift Chart Interpretation:\n",
        "The chart shows the actual renewal rate (blue) and the predicted renewal rate (orange) for 10 deciles.\n",
        "Decile 1 (highest predicted probabilities) has the highest actual and predicted renewal rates (>40%), while rates steadily decline toward Decile 10 (lowest probabilities).\n",
        "The close alignment between the predicted and actual rates indicates that the model performs well in ranking customers by their likelihood to renew.\n",
        "Deciles with Actual Response Rate > 20%:\n",
        "From the chart:\n",
        "Decile 1 has a response rate >40%.\n",
        "Decile 2 has a response rate >20%.\n",
        "Conclusion: 2 deciles (Decile 1 and Decile 2) have response rates higher than 20%.\n",
        "Insights:\n",
        "Retention Focus: Target customers in Decile 1 and Decile 2 for retention efforts, as they are the most likely to renew.\n",
        "Model Validation: The model effectively identifies high-probability customers, as seen from the alignment of predicted and actual rates."
      ],
      "metadata": {
        "id": "KII9Mlib3B0v"
      }
    },
    {
      "cell_type": "code",
      "source": [
        "# Recode pred_resp_prob into a binary variable using the 0.2 cutoff\n",
        "data['pred_resp_binary'] = (data['pred_resp_prob'] >= 0.2).astype(int)\n",
        "\n",
        "# Confusion matrix components\n",
        "true_positive = ((data['Response'] == 1) & (data['pred_resp_binary'] == 1)).sum()\n",
        "true_negative = ((data['Response'] == 0) & (data['pred_resp_binary'] == 0)).sum()\n",
        "false_positive = ((data['Response'] == 0) & (data['pred_resp_binary'] == 1)).sum()\n",
        "false_negative = ((data['Response'] == 1) & (data['pred_resp_binary'] == 0)).sum()\n",
        "\n",
        "# Sensitivity and specificity calculations\n",
        "sensitivity = true_positive / (true_positive + false_negative)\n",
        "specificity = true_negative / (true_negative + false_positive)\n",
        "\n",
        "# Print the results\n",
        "print(\"Sensitivity:\", sensitivity)\n",
        "print(\"Specificity:\", specificity)\n"
      ],
      "metadata": {
        "colab": {
          "base_uri": "https://localhost:8080/"
        },
        "id": "n4ebcSg0zMwH",
        "outputId": "57a68130-6de6-42c7-b4f5-cdee7e4d7f8a"
      },
      "execution_count": null,
      "outputs": [
        {
          "output_type": "stream",
          "name": "stdout",
          "text": [
            "Sensitivity: 0.6666666666666666\n",
            "Specificity: 0.8745837957824639\n"
          ]
        }
      ]
    },
    {
      "cell_type": "markdown",
      "source": [
        "Sensitivity: 0.67 (66.67%)\n",
        "Specificity: 0.87 (87.46%)\n",
        "Effect of Increasing the Cutoff:\n",
        "Sensitivity:\n",
        "\n",
        "Sensitivity will decrease if the cutoff is increased.\n",
        "Explanation: A higher cutoff makes it harder for predictions to be classified as a 1 (renewal), increasing False Negatives and reducing True Positives.\n",
        "Specificity:\n",
        "\n",
        "Specificity will increase if the cutoff is increased.\n",
        "Explanation: A higher cutoff reduces False Positives, increasing True Negatives, which improves specificity.\n",
        "\n",
        "At a cutoff of 0.2, the model balances sensitivity (ability to detect renewals) and specificity (ability to avoid false alarms).\n",
        "Raising the cutoff prioritizes avoiding false positives (higher specificity) at the cost of missing some true renewals (lower sensitivity)."
      ],
      "metadata": {
        "id": "e3jTuTkm3blB"
      }
    },
    {
      "cell_type": "code",
      "source": [
        "# Create copies of the data for scenarios with Renewal Offer 0 and Renewal Offer 1\n",
        "data_offer_0 = data.copy()\n",
        "data_offer_1 = data.copy()\n",
        "\n",
        "# Set Renewal_Offer to 0 and 1 for each respective scenario\n",
        "data_offer_0['Renewal_Offer'] = 0\n",
        "data_offer_1['Renewal_Offer'] = 1\n",
        "\n",
        "# Predict the probability of response for each scenario\n",
        "data_offer_0['pred_resp_prob_offer_0'] = logistic_model.predict(data_offer_0)\n",
        "data_offer_1['pred_resp_prob_offer_1'] = logistic_model.predict(data_offer_1)\n",
        "\n",
        "# Calculate the additional annual revenue generated by offering Renewal Offer 1\n",
        "# Assuming the monthly premium remains the same and 12 months of premiums per year\n",
        "data['RevenueLift'] = (\n",
        "    (data_offer_1['pred_resp_prob_offer_1'] - data_offer_0['pred_resp_prob_offer_0']) *\n",
        "    data['Monthly_Premium_Auto'] * 12\n",
        ")\n",
        "\n",
        "# Analyze RevenueLift and other variables\n",
        "summary_stats = data[['RevenueLift', 'pred_resp_prob_offer_0', 'pred_resp_prob_offer_1']].describe()\n",
        "\n",
        "# Print summary statistics for RevenueLift and probabilities\n",
        "print(summary_stats)\n",
        "\n",
        "# Analyze RevenueLift for different customer segments\n",
        "segment_analysis = data.groupby('Coverage').agg(\n",
        "    avg_revenue_lift=('RevenueLift', 'mean'),\n",
        "    avg_prob_offer_0=('pred_resp_prob_offer_0', 'mean'),\n",
        "    avg_prob_offer_1=('pred_resp_prob_offer_1', 'mean')\n",
        ").reset_index()\n",
        "\n",
        "# Print segment analysis\n",
        "print(segment_analysis)\n",
        "\n",
        "# Insights\n",
        "# 1. Customers with higher premiums show greater revenue lift when offered Renewal Offer 1.\n",
        "# 2. Certain customer segments (e.g., by Coverage or Location_Code) respond more positively to discounts,\n",
        "#    suggesting targeted strategies can maximize revenue.\n",
        "# 3. RevenueLift can identify customers for whom a 2% discount is more profitable, helping allocate offers efficiently.\n"
      ],
      "metadata": {
        "colab": {
          "base_uri": "https://localhost:8080/"
        },
        "id": "zRSjNESW0QDg",
        "outputId": "478677fc-96f7-48fd-d8df-17304a1ae10f"
      },
      "execution_count": null,
      "outputs": [
        {
          "output_type": "stream",
          "name": "stdout",
          "text": [
            "        RevenueLift  pred_resp_prob_offer_0  pred_resp_prob_offer_1\n",
            "count  1.000000e+03            1.000000e+03            1.000000e+03\n",
            "mean   1.581531e+02            2.604610e-02            1.645879e-01\n",
            "std    1.735311e+02            3.687370e-02            1.574944e-01\n",
            "min    1.400169e-13            2.121956e-17            2.007284e-16\n",
            "25%    4.144540e+01            4.967168e-03            4.509258e-02\n",
            "50%    1.022873e+02            1.284038e-02            1.095635e-01\n",
            "75%    2.163246e+02            3.263904e-02            2.419472e-01\n",
            "max    1.362095e+03            4.302110e-01            8.771850e-01\n",
            "   Coverage  avg_revenue_lift  avg_prob_offer_0  avg_prob_offer_1\n",
            "0     Basic        152.181398          0.029755          0.180849\n",
            "1  Extended        148.027626          0.019308          0.133099\n",
            "2   Premium        213.055462          0.022787          0.154916\n"
          ]
        }
      ]
    },
    {
      "cell_type": "markdown",
      "source": [
        "Predicted Probabilities:\n",
        "\n",
        "Renewal Offer 0: The average predicted probability of renewal is 2.6%.\n",
        "Renewal Offer 1: The average predicted probability increases to 16.46%, showing the positive impact of offering a 2% discount.\n",
        "RevenueLift:\n",
        "\n",
        "The average additional annual revenue (RevenueLift) generated by offering Renewal Offer 1 is $158.15.\n",
        "RevenueLift ranges from $0 (no impact for some customers) to $1,362.10 for high-value customers.\n",
        "Coverage Analysis:\n",
        "\n",
        "Basic Coverage: Average RevenueLift is $152.18, with probabilities increasing from 2.98% (Offer 0) to 18.08% (Offer 1).\n",
        "Premium Coverage: Average RevenueLift is $213.06, showing the highest potential gain from discounts.\n",
        "Extended Coverage: Average RevenueLift is lower at $148.03.\n",
        "Insights:\n",
        "Discount Effect: Offering a 2% discount significantly improves renewal probabilities and increases revenue for all customer segments.\n",
        "High-Value Customers: Premium customers generate the highest RevenueLift and should be prioritized for retention efforts.\n",
        "Targeted Discounts: Discounts are most effective for Basic and Premium customers, who show the largest revenue gains."
      ],
      "metadata": {
        "id": "aaqgyZjO37ix"
      }
    },
    {
      "cell_type": "code",
      "source": [
        "# Step 1: Sort customers by pred_resp_prob into deciles and select decile 2\n",
        "data['decile'] = pd.qcut(data['pred_resp_prob'], q=10, labels=False, duplicates='drop')\n",
        "data['decile'] = 10 - data['decile']  # Reverse order so decile 1 is the highest probability\n",
        "decile_2_data = data[data['decile'] == 2].copy()  # Ensure this is a copy to avoid warnings\n",
        "\n",
        "# Step 2: Compute annual profit\n",
        "decile_2_data['annual_profit'] = 0.15 * 12 * decile_2_data['Monthly_Premium_Auto']\n",
        "\n",
        "# Step 3: Predict retention rates for Renewal_Offer = 0 and 1\n",
        "data_offer_0 = decile_2_data.copy()\n",
        "data_offer_1 = decile_2_data.copy()\n",
        "\n",
        "data_offer_0['Renewal_Offer'] = 0\n",
        "data_offer_1['Renewal_Offer'] = 1\n",
        "\n",
        "data_offer_0['pred_resp_prob_offer_0'] = logistic_model.predict(data_offer_0)\n",
        "data_offer_1['pred_resp_prob_offer_1'] = logistic_model.predict(data_offer_1)\n",
        "\n",
        "# Step 4: Define a function to calculate CLV\n",
        "def calculate_clv(annual_profit, retention_rate):\n",
        "    discount_rate = 0.06  # 6% discount rate\n",
        "    clv = sum(\n",
        "        (annual_profit * (retention_rate ** t)) / ((1 + discount_rate) ** t)\n",
        "        for t in range(1, 7)  # 6 years\n",
        "    )\n",
        "    return clv\n",
        "\n",
        "# Step 5: Calculate CLV for each offer\n",
        "data_offer_0['CLV_offer_0'] = data_offer_0.apply(\n",
        "    lambda row: calculate_clv(row['annual_profit'], row['pred_resp_prob_offer_0']), axis=1\n",
        ")\n",
        "data_offer_1['CLV_offer_1'] = data_offer_1.apply(\n",
        "    lambda row: calculate_clv(row['annual_profit'], row['pred_resp_prob_offer_1']), axis=1\n",
        ")\n",
        "\n",
        "# Step 6: Compute Incremental CLV\n",
        "data_offer_1['Incremental_CLV'] = data_offer_1['CLV_offer_1'] - data_offer_0['CLV_offer_0']\n",
        "\n",
        "# Step 7: Summary of results\n",
        "summary_results = data_offer_1[['annual_profit', 'CLV_offer_1', 'Incremental_CLV']].describe()\n",
        "\n",
        "# Print the summary results\n",
        "print(summary_results)\n",
        "\n",
        "# Insights:\n",
        "# - Customers in decile 2 show measurable CLV improvements when offered Renewal Offer 1.\n",
        "# - Incremental CLV varies by customer profile and can be used to target high-value segments.\n",
        "# - Analyzing these results helps prioritize retention strategies and optimize discount allocations.\n",
        "\n"
      ],
      "metadata": {
        "colab": {
          "base_uri": "https://localhost:8080/"
        },
        "id": "WfWrMJAH0ZQj",
        "outputId": "03984fdc-a303-41af-dc9e-f66cdfec9651"
      },
      "execution_count": null,
      "outputs": [
        {
          "output_type": "stream",
          "name": "stdout",
          "text": [
            "       annual_profit  CLV_offer_1  Incremental_CLV\n",
            "count     100.000000   100.000000       100.000000\n",
            "mean      164.448000    61.604631        54.527258\n",
            "std        56.735859    57.430867        49.662053\n",
            "min       109.800000    22.698937        20.273264\n",
            "25%       122.400000    35.186708        31.409360\n",
            "50%       136.800000    43.864719        39.135083\n",
            "75%       198.000000    56.328504        50.281169\n",
            "max       405.000000   383.641621       335.293194\n"
          ]
        }
      ]
    },
    {
      "cell_type": "markdown",
      "source": [
        "Annual Profit:\n",
        "\n",
        "The mean annual profit is $164.45, calculated as 15% of the annual insurance premium (12 × Monthly Premium Auto).\n",
        "CLV with Renewal Offer 1:\n",
        "\n",
        "The mean CLV with Renewal Offer 1 is $61.60, indicating the total discounted value of profits over the next 6 years with a 2% discount.\n",
        "CLV values range from $22.70 to $383.64, showing variation based on customer characteristics and renewal probabilities.\n",
        "Incremental CLV:\n",
        "\n",
        "The mean Incremental CLV (the additional CLV generated by providing a 2% discount) is $54.53.\n",
        "Incremental CLV ranges from $20.27 to $335.29, with higher values for customers more likely to renew with a discount.\n",
        "\n",
        "Impact of Renewal Offer 1:\n",
        "\n",
        "Offering a 2% discount significantly increases the Customer Lifetime Value for customers in Decile 2, with an average incremental CLV of $54.53.\n",
        "Retention Focus:\n",
        "\n",
        "Customers in Decile 2 are high-priority targets for retention, as they respond positively to the discount, generating substantial incremental CLV.\n",
        "Targeted Retention:\n",
        "\n",
        "Prioritize high-profit customers in Decile 2 for Renewal Offer 1, as they yield the most value over the 6-year horizon."
      ],
      "metadata": {
        "id": "-se_bOdU4JTC"
      }
    }
  ]
}